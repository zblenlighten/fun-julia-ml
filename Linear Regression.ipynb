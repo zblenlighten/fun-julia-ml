{
 "cells": [
  {
   "cell_type": "markdown",
   "metadata": {},
   "source": [
    "# Linear Regression"
   ]
  },
  {
   "cell_type": "code",
   "execution_count": 46,
   "metadata": {},
   "outputs": [],
   "source": [
    "using CSV"
   ]
  },
  {
   "cell_type": "code",
   "execution_count": 47,
   "metadata": {},
   "outputs": [
    {
     "data": {
      "text/html": [
       "<table class=\"data-frame\"><thead><tr><th></th><th>Promote</th><th>Sales</th></tr><tr><th></th><th>Int64</th><th>Int64</th></tr></thead><tbody><p>19 rows × 2 columns</p><tr><th>1</th><td>23</td><td>554</td></tr><tr><th>2</th><td>56</td><td>1339</td></tr><tr><th>3</th><td>34</td><td>815</td></tr><tr><th>4</th><td>25</td><td>609</td></tr><tr><th>5</th><td>67</td><td>1600</td></tr><tr><th>6</th><td>82</td><td>2000</td></tr><tr><th>7</th><td>46</td><td>1000</td></tr><tr><th>8</th><td>14</td><td>300</td></tr><tr><th>9</th><td>6</td><td>150</td></tr><tr><th>10</th><td>47</td><td>1150</td></tr><tr><th>11</th><td>52</td><td>1200</td></tr><tr><th>12</th><td>88</td><td>2000</td></tr><tr><th>13</th><td>71</td><td>1750</td></tr><tr><th>14</th><td>78</td><td>2000</td></tr><tr><th>15</th><td>66</td><td>1500</td></tr><tr><th>16</th><td>44</td><td>1000</td></tr><tr><th>17</th><td>68</td><td>1600</td></tr><tr><th>18</th><td>90</td><td>2000</td></tr><tr><th>19</th><td>22</td><td>550</td></tr></tbody></table>"
      ],
      "text/latex": [
       "\\begin{tabular}{r|cc}\n",
       "\t& Promote & Sales\\\\\n",
       "\t\\hline\n",
       "\t& Int64 & Int64\\\\\n",
       "\t\\hline\n",
       "\t1 & 23 & 554 \\\\\n",
       "\t2 & 56 & 1339 \\\\\n",
       "\t3 & 34 & 815 \\\\\n",
       "\t4 & 25 & 609 \\\\\n",
       "\t5 & 67 & 1600 \\\\\n",
       "\t6 & 82 & 2000 \\\\\n",
       "\t7 & 46 & 1000 \\\\\n",
       "\t8 & 14 & 300 \\\\\n",
       "\t9 & 6 & 150 \\\\\n",
       "\t10 & 47 & 1150 \\\\\n",
       "\t11 & 52 & 1200 \\\\\n",
       "\t12 & 88 & 2000 \\\\\n",
       "\t13 & 71 & 1750 \\\\\n",
       "\t14 & 78 & 2000 \\\\\n",
       "\t15 & 66 & 1500 \\\\\n",
       "\t16 & 44 & 1000 \\\\\n",
       "\t17 & 68 & 1600 \\\\\n",
       "\t18 & 90 & 2000 \\\\\n",
       "\t19 & 22 & 550 \\\\\n",
       "\\end{tabular}\n"
      ],
      "text/plain": [
       "19×2 DataFrame\n",
       "│ Row │ Promote │ Sales │\n",
       "│     │ \u001b[90mInt64\u001b[39m   │ \u001b[90mInt64\u001b[39m │\n",
       "├─────┼─────────┼───────┤\n",
       "│ 1   │ 23      │ 554   │\n",
       "│ 2   │ 56      │ 1339  │\n",
       "│ 3   │ 34      │ 815   │\n",
       "│ 4   │ 25      │ 609   │\n",
       "│ 5   │ 67      │ 1600  │\n",
       "│ 6   │ 82      │ 2000  │\n",
       "│ 7   │ 46      │ 1000  │\n",
       "│ 8   │ 14      │ 300   │\n",
       "│ 9   │ 6       │ 150   │\n",
       "│ 10  │ 47      │ 1150  │\n",
       "│ 11  │ 52      │ 1200  │\n",
       "│ 12  │ 88      │ 2000  │\n",
       "│ 13  │ 71      │ 1750  │\n",
       "│ 14  │ 78      │ 2000  │\n",
       "│ 15  │ 66      │ 1500  │\n",
       "│ 16  │ 44      │ 1000  │\n",
       "│ 17  │ 68      │ 1600  │\n",
       "│ 18  │ 90      │ 2000  │\n",
       "│ 19  │ 22      │ 550   │"
      ]
     },
     "execution_count": 47,
     "metadata": {},
     "output_type": "execute_result"
    }
   ],
   "source": [
    "dataset = CSV.read(\"sales.csv\")"
   ]
  },
  {
   "cell_type": "code",
   "execution_count": 48,
   "metadata": {},
   "outputs": [
    {
     "name": "stderr",
     "output_type": "stream",
     "text": [
      "┌ Warning: `getindex(df::DataFrame, col_ind::ColumnIndex)` is deprecated, use `df[!, col_ind]` instead.\n",
      "│   caller = top-level scope at In[48]:1\n",
      "└ @ Core In[48]:1\n",
      "┌ Warning: `getindex(df::DataFrame, col_ind::ColumnIndex)` is deprecated, use `df[!, col_ind]` instead.\n",
      "│   caller = top-level scope at In[48]:2\n",
      "└ @ Core In[48]:2\n"
     ]
    },
    {
     "data": {
      "text/plain": [
       "19-element Array{Int64,1}:\n",
       "  554\n",
       " 1339\n",
       "  815\n",
       "  609\n",
       " 1600\n",
       " 2000\n",
       " 1000\n",
       "  300\n",
       "  150\n",
       " 1150\n",
       " 1200\n",
       " 2000\n",
       " 1750\n",
       " 2000\n",
       " 1500\n",
       " 1000\n",
       " 1600\n",
       " 2000\n",
       "  550"
      ]
     },
     "execution_count": 48,
     "metadata": {},
     "output_type": "execute_result"
    }
   ],
   "source": [
    "X = dataset[:Promote]\n",
    "Y = dataset[:Sales]"
   ]
  },
  {
   "cell_type": "code",
   "execution_count": 49,
   "metadata": {},
   "outputs": [],
   "source": [
    "using Plots"
   ]
  },
  {
   "cell_type": "code",
   "execution_count": 50,
   "metadata": {
    "scrolled": false
   },
   "outputs": [
    {
     "data": {
      "image/svg+xml": [
       "<?xml version=\"1.0\" encoding=\"utf-8\"?>\n",
       "<svg xmlns=\"http://www.w3.org/2000/svg\" xmlns:xlink=\"http://www.w3.org/1999/xlink\" width=\"600\" height=\"400\" viewBox=\"0 0 2400 1600\">\n",
       "<defs>\n",
       "  <clipPath id=\"clip540\">\n",
       "    <rect x=\"0\" y=\"0\" width=\"2400\" height=\"1600\"/>\n",
       "  </clipPath>\n",
       "</defs>\n",
       "<path clip-path=\"url(#clip540)\" d=\"\n",
       "M0 1600 L2400 1600 L2400 0 L0 0  Z\n",
       "  \" fill=\"#ffffff\" fill-rule=\"evenodd\" fill-opacity=\"1\"/>\n",
       "<defs>\n",
       "  <clipPath id=\"clip541\">\n",
       "    <rect x=\"480\" y=\"0\" width=\"1681\" height=\"1600\"/>\n",
       "  </clipPath>\n",
       "</defs>\n",
       "<path clip-path=\"url(#clip540)\" d=\"\n",
       "M189.978 1486.45 L2352.76 1486.45 L2352.76 47.2441 L189.978 47.2441  Z\n",
       "  \" fill=\"#ffffff\" fill-rule=\"evenodd\" fill-opacity=\"1\"/>\n",
       "<defs>\n",
       "  <clipPath id=\"clip542\">\n",
       "    <rect x=\"189\" y=\"47\" width=\"2164\" height=\"1440\"/>\n",
       "  </clipPath>\n",
       "</defs>\n",
       "<polyline clip-path=\"url(#clip542)\" style=\"stroke:#000000; stroke-width:2; stroke-opacity:0.1; fill:none\" points=\"\n",
       "  591.248,1486.45 591.248,47.2441 \n",
       "  \"/>\n",
       "<polyline clip-path=\"url(#clip542)\" style=\"stroke:#000000; stroke-width:2; stroke-opacity:0.1; fill:none\" points=\"\n",
       "  1077.05,1486.45 1077.05,47.2441 \n",
       "  \"/>\n",
       "<polyline clip-path=\"url(#clip542)\" style=\"stroke:#000000; stroke-width:2; stroke-opacity:0.1; fill:none\" points=\"\n",
       "  1562.85,1486.45 1562.85,47.2441 \n",
       "  \"/>\n",
       "<polyline clip-path=\"url(#clip542)\" style=\"stroke:#000000; stroke-width:2; stroke-opacity:0.1; fill:none\" points=\"\n",
       "  2048.65,1486.45 2048.65,47.2441 \n",
       "  \"/>\n",
       "<polyline clip-path=\"url(#clip542)\" style=\"stroke:#000000; stroke-width:2; stroke-opacity:0.1; fill:none\" points=\"\n",
       "  189.978,1188.85 2352.76,1188.85 \n",
       "  \"/>\n",
       "<polyline clip-path=\"url(#clip542)\" style=\"stroke:#000000; stroke-width:2; stroke-opacity:0.1; fill:none\" points=\"\n",
       "  189.978,821.889 2352.76,821.889 \n",
       "  \"/>\n",
       "<polyline clip-path=\"url(#clip542)\" style=\"stroke:#000000; stroke-width:2; stroke-opacity:0.1; fill:none\" points=\"\n",
       "  189.978,454.933 2352.76,454.933 \n",
       "  \"/>\n",
       "<polyline clip-path=\"url(#clip542)\" style=\"stroke:#000000; stroke-width:2; stroke-opacity:0.1; fill:none\" points=\"\n",
       "  189.978,87.9763 2352.76,87.9763 \n",
       "  \"/>\n",
       "<polyline clip-path=\"url(#clip540)\" style=\"stroke:#000000; stroke-width:4; stroke-opacity:1; fill:none\" points=\"\n",
       "  189.978,1486.45 2352.76,1486.45 \n",
       "  \"/>\n",
       "<polyline clip-path=\"url(#clip540)\" style=\"stroke:#000000; stroke-width:4; stroke-opacity:1; fill:none\" points=\"\n",
       "  189.978,1486.45 189.978,47.2441 \n",
       "  \"/>\n",
       "<polyline clip-path=\"url(#clip540)\" style=\"stroke:#000000; stroke-width:4; stroke-opacity:1; fill:none\" points=\"\n",
       "  591.248,1486.45 591.248,1469.18 \n",
       "  \"/>\n",
       "<polyline clip-path=\"url(#clip540)\" style=\"stroke:#000000; stroke-width:4; stroke-opacity:1; fill:none\" points=\"\n",
       "  1077.05,1486.45 1077.05,1469.18 \n",
       "  \"/>\n",
       "<polyline clip-path=\"url(#clip540)\" style=\"stroke:#000000; stroke-width:4; stroke-opacity:1; fill:none\" points=\"\n",
       "  1562.85,1486.45 1562.85,1469.18 \n",
       "  \"/>\n",
       "<polyline clip-path=\"url(#clip540)\" style=\"stroke:#000000; stroke-width:4; stroke-opacity:1; fill:none\" points=\"\n",
       "  2048.65,1486.45 2048.65,1469.18 \n",
       "  \"/>\n",
       "<polyline clip-path=\"url(#clip540)\" style=\"stroke:#000000; stroke-width:4; stroke-opacity:1; fill:none\" points=\"\n",
       "  189.978,1188.85 215.931,1188.85 \n",
       "  \"/>\n",
       "<polyline clip-path=\"url(#clip540)\" style=\"stroke:#000000; stroke-width:4; stroke-opacity:1; fill:none\" points=\"\n",
       "  189.978,821.889 215.931,821.889 \n",
       "  \"/>\n",
       "<polyline clip-path=\"url(#clip540)\" style=\"stroke:#000000; stroke-width:4; stroke-opacity:1; fill:none\" points=\"\n",
       "  189.978,454.933 215.931,454.933 \n",
       "  \"/>\n",
       "<polyline clip-path=\"url(#clip540)\" style=\"stroke:#000000; stroke-width:4; stroke-opacity:1; fill:none\" points=\"\n",
       "  189.978,87.9763 215.931,87.9763 \n",
       "  \"/>\n",
       "<path clip-path=\"url(#clip540)\" d=\"M 0 0 M572.394 1535.98 L588.713 1535.98 L588.713 1539.92 L566.769 1539.92 L566.769 1535.98 Q569.431 1533.23 574.014 1528.6 Q578.621 1523.95 579.801 1522.61 Q582.047 1520.08 582.926 1518.35 Q583.829 1516.59 583.829 1514.9 Q583.829 1512.14 581.884 1510.41 Q579.963 1508.67 576.861 1508.67 Q574.662 1508.67 572.209 1509.43 Q569.778 1510.2 567 1511.75 L567 1507.03 Q569.824 1505.89 572.278 1505.31 Q574.732 1504.73 576.769 1504.73 Q582.139 1504.73 585.334 1507.42 Q588.528 1510.11 588.528 1514.6 Q588.528 1516.73 587.718 1518.65 Q586.931 1520.54 584.824 1523.14 Q584.246 1523.81 581.144 1527.03 Q578.042 1530.22 572.394 1535.98 Z\" fill=\"#000000\" fill-rule=\"evenodd\" fill-opacity=\"1\" /><path clip-path=\"url(#clip540)\" d=\"M 0 0 M603.783 1508.44 Q600.171 1508.44 598.343 1512 Q596.537 1515.55 596.537 1522.67 Q596.537 1529.78 598.343 1533.35 Q600.171 1536.89 603.783 1536.89 Q607.417 1536.89 609.222 1533.35 Q611.051 1529.78 611.051 1522.67 Q611.051 1515.55 609.222 1512 Q607.417 1508.44 603.783 1508.44 M603.783 1504.73 Q609.593 1504.73 612.648 1509.34 Q615.727 1513.92 615.727 1522.67 Q615.727 1531.4 612.648 1536.01 Q609.593 1540.59 603.783 1540.59 Q597.972 1540.59 594.894 1536.01 Q591.838 1531.4 591.838 1522.67 Q591.838 1513.92 594.894 1509.34 Q597.972 1504.73 603.783 1504.73 Z\" fill=\"#000000\" fill-rule=\"evenodd\" fill-opacity=\"1\" /><path clip-path=\"url(#clip540)\" d=\"M 0 0 M1066.55 1509.43 L1054.74 1527.88 L1066.55 1527.88 L1066.55 1509.43 M1065.32 1505.36 L1071.2 1505.36 L1071.2 1527.88 L1076.13 1527.88 L1076.13 1531.77 L1071.2 1531.77 L1071.2 1539.92 L1066.55 1539.92 L1066.55 1531.77 L1050.95 1531.77 L1050.95 1527.26 L1065.32 1505.36 Z\" fill=\"#000000\" fill-rule=\"evenodd\" fill-opacity=\"1\" /><path clip-path=\"url(#clip540)\" d=\"M 0 0 M1091.2 1508.44 Q1087.59 1508.44 1085.76 1512 Q1083.96 1515.55 1083.96 1522.67 Q1083.96 1529.78 1085.76 1533.35 Q1087.59 1536.89 1091.2 1536.89 Q1094.84 1536.89 1096.64 1533.35 Q1098.47 1529.78 1098.47 1522.67 Q1098.47 1515.55 1096.64 1512 Q1094.84 1508.44 1091.2 1508.44 M1091.2 1504.73 Q1097.01 1504.73 1100.07 1509.34 Q1103.15 1513.92 1103.15 1522.67 Q1103.15 1531.4 1100.07 1536.01 Q1097.01 1540.59 1091.2 1540.59 Q1085.39 1540.59 1082.31 1536.01 Q1079.26 1531.4 1079.26 1522.67 Q1079.26 1513.92 1082.31 1509.34 Q1085.39 1504.73 1091.2 1504.73 Z\" fill=\"#000000\" fill-rule=\"evenodd\" fill-opacity=\"1\" /><path clip-path=\"url(#clip540)\" d=\"M 0 0 M1549.74 1520.78 Q1546.6 1520.78 1544.74 1522.93 Q1542.92 1525.08 1542.92 1528.83 Q1542.92 1532.56 1544.74 1534.73 Q1546.6 1536.89 1549.74 1536.89 Q1552.89 1536.89 1554.72 1534.73 Q1556.57 1532.56 1556.57 1528.83 Q1556.57 1525.08 1554.72 1522.93 Q1552.89 1520.78 1549.74 1520.78 M1559.03 1506.12 L1559.03 1510.38 Q1557.27 1509.55 1555.46 1509.11 Q1553.68 1508.67 1551.92 1508.67 Q1547.29 1508.67 1544.84 1511.8 Q1542.41 1514.92 1542.06 1521.24 Q1543.43 1519.23 1545.49 1518.16 Q1547.55 1517.07 1550.02 1517.07 Q1555.23 1517.07 1558.24 1520.24 Q1561.27 1523.39 1561.27 1528.83 Q1561.27 1534.16 1558.12 1537.37 Q1554.98 1540.59 1549.74 1540.59 Q1543.75 1540.59 1540.58 1536.01 Q1537.41 1531.4 1537.41 1522.67 Q1537.41 1514.48 1541.3 1509.62 Q1545.18 1504.73 1551.74 1504.73 Q1553.49 1504.73 1555.28 1505.08 Q1557.08 1505.43 1559.03 1506.12 Z\" fill=\"#000000\" fill-rule=\"evenodd\" fill-opacity=\"1\" /><path clip-path=\"url(#clip540)\" d=\"M 0 0 M1576.34 1508.44 Q1572.73 1508.44 1570.9 1512 Q1569.1 1515.55 1569.1 1522.67 Q1569.1 1529.78 1570.9 1533.35 Q1572.73 1536.89 1576.34 1536.89 Q1579.98 1536.89 1581.78 1533.35 Q1583.61 1529.78 1583.61 1522.67 Q1583.61 1515.55 1581.78 1512 Q1579.98 1508.44 1576.34 1508.44 M1576.34 1504.73 Q1582.15 1504.73 1585.21 1509.34 Q1588.29 1513.92 1588.29 1522.67 Q1588.29 1531.4 1585.21 1536.01 Q1582.15 1540.59 1576.34 1540.59 Q1570.53 1540.59 1567.45 1536.01 Q1564.4 1531.4 1564.4 1522.67 Q1564.4 1513.92 1567.45 1509.34 Q1570.53 1504.73 1576.34 1504.73 Z\" fill=\"#000000\" fill-rule=\"evenodd\" fill-opacity=\"1\" /><path clip-path=\"url(#clip540)\" d=\"M 0 0 M2035.14 1523.51 Q2031.81 1523.51 2029.88 1525.29 Q2027.99 1527.07 2027.99 1530.2 Q2027.99 1533.32 2029.88 1535.11 Q2031.81 1536.89 2035.14 1536.89 Q2038.47 1536.89 2040.39 1535.11 Q2042.31 1533.3 2042.31 1530.2 Q2042.31 1527.07 2040.39 1525.29 Q2038.5 1523.51 2035.14 1523.51 M2030.46 1521.52 Q2027.45 1520.78 2025.76 1518.72 Q2024.1 1516.66 2024.1 1513.69 Q2024.1 1509.55 2027.04 1507.14 Q2030 1504.73 2035.14 1504.73 Q2040.3 1504.73 2043.24 1507.14 Q2046.18 1509.55 2046.18 1513.69 Q2046.18 1516.66 2044.49 1518.72 Q2042.82 1520.78 2039.84 1521.52 Q2043.22 1522.3 2045.09 1524.6 Q2046.99 1526.89 2046.99 1530.2 Q2046.99 1535.22 2043.91 1537.91 Q2040.86 1540.59 2035.14 1540.59 Q2029.42 1540.59 2026.34 1537.91 Q2023.29 1535.22 2023.29 1530.2 Q2023.29 1526.89 2025.19 1524.6 Q2027.08 1522.3 2030.46 1521.52 M2028.75 1514.13 Q2028.75 1516.82 2030.42 1518.32 Q2032.11 1519.83 2035.14 1519.83 Q2038.15 1519.83 2039.84 1518.32 Q2041.55 1516.82 2041.55 1514.13 Q2041.55 1511.45 2039.84 1509.94 Q2038.15 1508.44 2035.14 1508.44 Q2032.11 1508.44 2030.42 1509.94 Q2028.75 1511.45 2028.75 1514.13 Z\" fill=\"#000000\" fill-rule=\"evenodd\" fill-opacity=\"1\" /><path clip-path=\"url(#clip540)\" d=\"M 0 0 M2062.06 1508.44 Q2058.45 1508.44 2056.62 1512 Q2054.81 1515.55 2054.81 1522.67 Q2054.81 1529.78 2056.62 1533.35 Q2058.45 1536.89 2062.06 1536.89 Q2065.69 1536.89 2067.5 1533.35 Q2069.33 1529.78 2069.33 1522.67 Q2069.33 1515.55 2067.5 1512 Q2065.69 1508.44 2062.06 1508.44 M2062.06 1504.73 Q2067.87 1504.73 2070.93 1509.34 Q2074 1513.92 2074 1522.67 Q2074 1531.4 2070.93 1536.01 Q2067.87 1540.59 2062.06 1540.59 Q2056.25 1540.59 2053.17 1536.01 Q2050.12 1531.4 2050.12 1522.67 Q2050.12 1513.92 2053.17 1509.34 Q2056.25 1504.73 2062.06 1504.73 Z\" fill=\"#000000\" fill-rule=\"evenodd\" fill-opacity=\"1\" /><path clip-path=\"url(#clip540)\" d=\"M 0 0 M91.0475 1171.57 L109.404 1171.57 L109.404 1175.5 L95.3299 1175.5 L95.3299 1183.97 Q96.3484 1183.63 97.3669 1183.46 Q98.3855 1183.28 99.404 1183.28 Q105.191 1183.28 108.571 1186.45 Q111.95 1189.62 111.95 1195.04 Q111.95 1200.62 108.478 1203.72 Q105.006 1206.8 98.6864 1206.8 Q96.5105 1206.8 94.242 1206.43 Q91.9966 1206.06 89.5892 1205.32 L89.5892 1200.62 Q91.6725 1201.75 93.8947 1202.31 Q96.1169 1202.86 98.5938 1202.86 Q102.598 1202.86 104.936 1200.76 Q107.274 1198.65 107.274 1195.04 Q107.274 1191.43 104.936 1189.32 Q102.598 1187.21 98.5938 1187.21 Q96.7188 1187.21 94.8438 1187.63 Q92.992 1188.05 91.0475 1188.93 L91.0475 1171.57 Z\" fill=\"#000000\" fill-rule=\"evenodd\" fill-opacity=\"1\" /><path clip-path=\"url(#clip540)\" d=\"M 0 0 M127.02 1174.64 Q123.408 1174.64 121.58 1178.21 Q119.774 1181.75 119.774 1188.88 Q119.774 1195.99 121.58 1199.55 Q123.408 1203.09 127.02 1203.09 Q130.654 1203.09 132.459 1199.55 Q134.288 1195.99 134.288 1188.88 Q134.288 1181.75 132.459 1178.21 Q130.654 1174.64 127.02 1174.64 M127.02 1170.94 Q132.83 1170.94 135.885 1175.55 Q138.964 1180.13 138.964 1188.88 Q138.964 1197.61 135.885 1202.21 Q132.83 1206.8 127.02 1206.8 Q121.209 1206.8 118.131 1202.21 Q115.075 1197.61 115.075 1188.88 Q115.075 1180.13 118.131 1175.55 Q121.209 1170.94 127.02 1170.94 Z\" fill=\"#000000\" fill-rule=\"evenodd\" fill-opacity=\"1\" /><path clip-path=\"url(#clip540)\" d=\"M 0 0 M154.033 1174.64 Q150.422 1174.64 148.594 1178.21 Q146.788 1181.75 146.788 1188.88 Q146.788 1195.99 148.594 1199.55 Q150.422 1203.09 154.033 1203.09 Q157.668 1203.09 159.473 1199.55 Q161.302 1195.99 161.302 1188.88 Q161.302 1181.75 159.473 1178.21 Q157.668 1174.64 154.033 1174.64 M154.033 1170.94 Q159.843 1170.94 162.899 1175.55 Q165.978 1180.13 165.978 1188.88 Q165.978 1197.61 162.899 1202.21 Q159.843 1206.8 154.033 1206.8 Q148.223 1206.8 145.144 1202.21 Q142.089 1197.61 142.089 1188.88 Q142.089 1180.13 145.144 1175.55 Q148.223 1170.94 154.033 1170.94 Z\" fill=\"#000000\" fill-rule=\"evenodd\" fill-opacity=\"1\" /><path clip-path=\"url(#clip540)\" d=\"M 0 0 M65.0292 835.234 L72.668 835.234 L72.668 808.869 L64.3579 810.535 L64.3579 806.276 L72.6217 804.609 L77.2976 804.609 L77.2976 835.234 L84.9365 835.234 L84.9365 839.169 L65.0292 839.169 L65.0292 835.234 Z\" fill=\"#000000\" fill-rule=\"evenodd\" fill-opacity=\"1\" /><path clip-path=\"url(#clip540)\" d=\"M 0 0 M100.006 807.688 Q96.3947 807.688 94.566 811.253 Q92.7605 814.795 92.7605 821.924 Q92.7605 829.031 94.566 832.595 Q96.3947 836.137 100.006 836.137 Q103.64 836.137 105.446 832.595 Q107.274 829.031 107.274 821.924 Q107.274 814.795 105.446 811.253 Q103.64 807.688 100.006 807.688 M100.006 803.984 Q105.816 803.984 108.872 808.591 Q111.95 813.174 111.95 821.924 Q111.95 830.651 108.872 835.257 Q105.816 839.841 100.006 839.841 Q94.1957 839.841 91.117 835.257 Q88.0614 830.651 88.0614 821.924 Q88.0614 813.174 91.117 808.591 Q94.1957 803.984 100.006 803.984 Z\" fill=\"#000000\" fill-rule=\"evenodd\" fill-opacity=\"1\" /><path clip-path=\"url(#clip540)\" d=\"M 0 0 M127.02 807.688 Q123.408 807.688 121.58 811.253 Q119.774 814.795 119.774 821.924 Q119.774 829.031 121.58 832.595 Q123.408 836.137 127.02 836.137 Q130.654 836.137 132.459 832.595 Q134.288 829.031 134.288 821.924 Q134.288 814.795 132.459 811.253 Q130.654 807.688 127.02 807.688 M127.02 803.984 Q132.83 803.984 135.885 808.591 Q138.964 813.174 138.964 821.924 Q138.964 830.651 135.885 835.257 Q132.83 839.841 127.02 839.841 Q121.209 839.841 118.131 835.257 Q115.075 830.651 115.075 821.924 Q115.075 813.174 118.131 808.591 Q121.209 803.984 127.02 803.984 Z\" fill=\"#000000\" fill-rule=\"evenodd\" fill-opacity=\"1\" /><path clip-path=\"url(#clip540)\" d=\"M 0 0 M154.033 807.688 Q150.422 807.688 148.594 811.253 Q146.788 814.795 146.788 821.924 Q146.788 829.031 148.594 832.595 Q150.422 836.137 154.033 836.137 Q157.668 836.137 159.473 832.595 Q161.302 829.031 161.302 821.924 Q161.302 814.795 159.473 811.253 Q157.668 807.688 154.033 807.688 M154.033 803.984 Q159.843 803.984 162.899 808.591 Q165.978 813.174 165.978 821.924 Q165.978 830.651 162.899 835.257 Q159.843 839.841 154.033 839.841 Q148.223 839.841 145.144 835.257 Q142.089 830.651 142.089 821.924 Q142.089 813.174 145.144 808.591 Q148.223 803.984 154.033 803.984 Z\" fill=\"#000000\" fill-rule=\"evenodd\" fill-opacity=\"1\" /><path clip-path=\"url(#clip540)\" d=\"M 0 0 M66.0245 468.278 L73.6634 468.278 L73.6634 441.912 L65.3532 443.579 L65.3532 439.32 L73.6171 437.653 L78.293 437.653 L78.293 468.278 L85.9318 468.278 L85.9318 472.213 L66.0245 472.213 L66.0245 468.278 Z\" fill=\"#000000\" fill-rule=\"evenodd\" fill-opacity=\"1\" /><path clip-path=\"url(#clip540)\" d=\"M 0 0 M91.0475 437.653 L109.404 437.653 L109.404 441.588 L95.3299 441.588 L95.3299 450.06 Q96.3484 449.713 97.3669 449.551 Q98.3855 449.366 99.404 449.366 Q105.191 449.366 108.571 452.537 Q111.95 455.708 111.95 461.125 Q111.95 466.704 108.478 469.805 Q105.006 472.884 98.6864 472.884 Q96.5105 472.884 94.242 472.514 Q91.9966 472.143 89.5892 471.403 L89.5892 466.704 Q91.6725 467.838 93.8947 468.393 Q96.1169 468.949 98.5938 468.949 Q102.598 468.949 104.936 466.843 Q107.274 464.736 107.274 461.125 Q107.274 457.514 104.936 455.407 Q102.598 453.301 98.5938 453.301 Q96.7188 453.301 94.8438 453.718 Q92.992 454.134 91.0475 455.014 L91.0475 437.653 Z\" fill=\"#000000\" fill-rule=\"evenodd\" fill-opacity=\"1\" /><path clip-path=\"url(#clip540)\" d=\"M 0 0 M127.02 440.732 Q123.408 440.732 121.58 444.296 Q119.774 447.838 119.774 454.968 Q119.774 462.074 121.58 465.639 Q123.408 469.18 127.02 469.18 Q130.654 469.18 132.459 465.639 Q134.288 462.074 134.288 454.968 Q134.288 447.838 132.459 444.296 Q130.654 440.732 127.02 440.732 M127.02 437.028 Q132.83 437.028 135.885 441.634 Q138.964 446.218 138.964 454.968 Q138.964 463.694 135.885 468.301 Q132.83 472.884 127.02 472.884 Q121.209 472.884 118.131 468.301 Q115.075 463.694 115.075 454.968 Q115.075 446.218 118.131 441.634 Q121.209 437.028 127.02 437.028 Z\" fill=\"#000000\" fill-rule=\"evenodd\" fill-opacity=\"1\" /><path clip-path=\"url(#clip540)\" d=\"M 0 0 M154.033 440.732 Q150.422 440.732 148.594 444.296 Q146.788 447.838 146.788 454.968 Q146.788 462.074 148.594 465.639 Q150.422 469.18 154.033 469.18 Q157.668 469.18 159.473 465.639 Q161.302 462.074 161.302 454.968 Q161.302 447.838 159.473 444.296 Q157.668 440.732 154.033 440.732 M154.033 437.028 Q159.843 437.028 162.899 441.634 Q165.978 446.218 165.978 454.968 Q165.978 463.694 162.899 468.301 Q159.843 472.884 154.033 472.884 Q148.223 472.884 145.144 468.301 Q142.089 463.694 142.089 454.968 Q142.089 446.218 145.144 441.634 Q148.223 437.028 154.033 437.028 Z\" fill=\"#000000\" fill-rule=\"evenodd\" fill-opacity=\"1\" /><path clip-path=\"url(#clip540)\" d=\"M 0 0 M68.6171 101.321 L84.9365 101.321 L84.9365 105.256 L62.9921 105.256 L62.9921 101.321 Q65.6541 98.5665 70.2375 93.9369 Q74.8439 89.2841 76.0245 87.9416 Q78.2698 85.4184 79.1494 83.6823 Q80.0522 81.9231 80.0522 80.2333 Q80.0522 77.4786 78.1078 75.7425 Q76.1865 74.0064 73.0847 74.0064 Q70.8856 74.0064 68.4319 74.7703 Q66.0014 75.5342 63.2236 77.0851 L63.2236 72.3629 Q66.0477 71.2287 68.5014 70.65 Q70.955 70.0713 72.9921 70.0713 Q78.3624 70.0713 81.5568 72.7565 Q84.7513 75.4416 84.7513 79.9323 Q84.7513 82.062 83.9411 83.9832 Q83.1541 85.8814 81.0476 88.474 Q80.4689 89.1453 77.367 92.3628 Q74.2652 95.5573 68.6171 101.321 Z\" fill=\"#000000\" fill-rule=\"evenodd\" fill-opacity=\"1\" /><path clip-path=\"url(#clip540)\" d=\"M 0 0 M100.006 73.775 Q96.3947 73.775 94.566 77.3398 Q92.7605 80.8814 92.7605 88.011 Q92.7605 95.1174 94.566 98.6822 Q96.3947 102.224 100.006 102.224 Q103.64 102.224 105.446 98.6822 Q107.274 95.1174 107.274 88.011 Q107.274 80.8814 105.446 77.3398 Q103.64 73.775 100.006 73.775 M100.006 70.0713 Q105.816 70.0713 108.872 74.6777 Q111.95 79.261 111.95 88.011 Q111.95 96.7378 108.872 101.344 Q105.816 105.928 100.006 105.928 Q94.1957 105.928 91.117 101.344 Q88.0614 96.7378 88.0614 88.011 Q88.0614 79.261 91.117 74.6777 Q94.1957 70.0713 100.006 70.0713 Z\" fill=\"#000000\" fill-rule=\"evenodd\" fill-opacity=\"1\" /><path clip-path=\"url(#clip540)\" d=\"M 0 0 M127.02 73.775 Q123.408 73.775 121.58 77.3398 Q119.774 80.8814 119.774 88.011 Q119.774 95.1174 121.58 98.6822 Q123.408 102.224 127.02 102.224 Q130.654 102.224 132.459 98.6822 Q134.288 95.1174 134.288 88.011 Q134.288 80.8814 132.459 77.3398 Q130.654 73.775 127.02 73.775 M127.02 70.0713 Q132.83 70.0713 135.885 74.6777 Q138.964 79.261 138.964 88.011 Q138.964 96.7378 135.885 101.344 Q132.83 105.928 127.02 105.928 Q121.209 105.928 118.131 101.344 Q115.075 96.7378 115.075 88.011 Q115.075 79.261 118.131 74.6777 Q121.209 70.0713 127.02 70.0713 Z\" fill=\"#000000\" fill-rule=\"evenodd\" fill-opacity=\"1\" /><path clip-path=\"url(#clip540)\" d=\"M 0 0 M154.033 73.775 Q150.422 73.775 148.594 77.3398 Q146.788 80.8814 146.788 88.011 Q146.788 95.1174 148.594 98.6822 Q150.422 102.224 154.033 102.224 Q157.668 102.224 159.473 98.6822 Q161.302 95.1174 161.302 88.011 Q161.302 80.8814 159.473 77.3398 Q157.668 73.775 154.033 73.775 M154.033 70.0713 Q159.843 70.0713 162.899 74.6777 Q165.978 79.261 165.978 88.011 Q165.978 96.7378 162.899 101.344 Q159.843 105.928 154.033 105.928 Q148.223 105.928 145.144 101.344 Q142.089 96.7378 142.089 88.011 Q142.089 79.261 145.144 74.6777 Q148.223 70.0713 154.033 70.0713 Z\" fill=\"#000000\" fill-rule=\"evenodd\" fill-opacity=\"1\" /><circle clip-path=\"url(#clip542)\" cx=\"664.118\" cy=\"1149.21\" r=\"14\" fill=\"#009af9\" fill-rule=\"evenodd\" fill-opacity=\"1\" stroke=\"#000000\" stroke-opacity=\"1\" stroke-width=\"3.2\"/>\n",
       "<circle clip-path=\"url(#clip542)\" cx=\"1465.69\" cy=\"573.093\" r=\"14\" fill=\"#009af9\" fill-rule=\"evenodd\" fill-opacity=\"1\" stroke=\"#000000\" stroke-opacity=\"1\" stroke-width=\"3.2\"/>\n",
       "<circle clip-path=\"url(#clip542)\" cx=\"931.307\" cy=\"957.663\" r=\"14\" fill=\"#009af9\" fill-rule=\"evenodd\" fill-opacity=\"1\" stroke=\"#000000\" stroke-opacity=\"1\" stroke-width=\"3.2\"/>\n",
       "<circle clip-path=\"url(#clip542)\" cx=\"712.698\" cy=\"1108.85\" r=\"14\" fill=\"#009af9\" fill-rule=\"evenodd\" fill-opacity=\"1\" stroke=\"#000000\" stroke-opacity=\"1\" stroke-width=\"3.2\"/>\n",
       "<circle clip-path=\"url(#clip542)\" cx=\"1732.88\" cy=\"381.542\" r=\"14\" fill=\"#009af9\" fill-rule=\"evenodd\" fill-opacity=\"1\" stroke=\"#000000\" stroke-opacity=\"1\" stroke-width=\"3.2\"/>\n",
       "<circle clip-path=\"url(#clip542)\" cx=\"2097.23\" cy=\"87.9763\" r=\"14\" fill=\"#009af9\" fill-rule=\"evenodd\" fill-opacity=\"1\" stroke=\"#000000\" stroke-opacity=\"1\" stroke-width=\"3.2\"/>\n",
       "<circle clip-path=\"url(#clip542)\" cx=\"1222.79\" cy=\"821.889\" r=\"14\" fill=\"#009af9\" fill-rule=\"evenodd\" fill-opacity=\"1\" stroke=\"#000000\" stroke-opacity=\"1\" stroke-width=\"3.2\"/>\n",
       "<circle clip-path=\"url(#clip542)\" cx=\"445.508\" cy=\"1335.63\" r=\"14\" fill=\"#009af9\" fill-rule=\"evenodd\" fill-opacity=\"1\" stroke=\"#000000\" stroke-opacity=\"1\" stroke-width=\"3.2\"/>\n",
       "<circle clip-path=\"url(#clip542)\" cx=\"251.188\" cy=\"1445.72\" r=\"14\" fill=\"#009af9\" fill-rule=\"evenodd\" fill-opacity=\"1\" stroke=\"#000000\" stroke-opacity=\"1\" stroke-width=\"3.2\"/>\n",
       "<circle clip-path=\"url(#clip542)\" cx=\"1247.08\" cy=\"711.802\" r=\"14\" fill=\"#009af9\" fill-rule=\"evenodd\" fill-opacity=\"1\" stroke=\"#000000\" stroke-opacity=\"1\" stroke-width=\"3.2\"/>\n",
       "<circle clip-path=\"url(#clip542)\" cx=\"1368.53\" cy=\"675.107\" r=\"14\" fill=\"#009af9\" fill-rule=\"evenodd\" fill-opacity=\"1\" stroke=\"#000000\" stroke-opacity=\"1\" stroke-width=\"3.2\"/>\n",
       "<circle clip-path=\"url(#clip542)\" cx=\"2242.97\" cy=\"87.9763\" r=\"14\" fill=\"#009af9\" fill-rule=\"evenodd\" fill-opacity=\"1\" stroke=\"#000000\" stroke-opacity=\"1\" stroke-width=\"3.2\"/>\n",
       "<circle clip-path=\"url(#clip542)\" cx=\"1830.04\" cy=\"271.455\" r=\"14\" fill=\"#009af9\" fill-rule=\"evenodd\" fill-opacity=\"1\" stroke=\"#000000\" stroke-opacity=\"1\" stroke-width=\"3.2\"/>\n",
       "<circle clip-path=\"url(#clip542)\" cx=\"2000.07\" cy=\"87.9763\" r=\"14\" fill=\"#009af9\" fill-rule=\"evenodd\" fill-opacity=\"1\" stroke=\"#000000\" stroke-opacity=\"1\" stroke-width=\"3.2\"/>\n",
       "<circle clip-path=\"url(#clip542)\" cx=\"1708.59\" cy=\"454.933\" r=\"14\" fill=\"#009af9\" fill-rule=\"evenodd\" fill-opacity=\"1\" stroke=\"#000000\" stroke-opacity=\"1\" stroke-width=\"3.2\"/>\n",
       "<circle clip-path=\"url(#clip542)\" cx=\"1174.21\" cy=\"821.889\" r=\"14\" fill=\"#009af9\" fill-rule=\"evenodd\" fill-opacity=\"1\" stroke=\"#000000\" stroke-opacity=\"1\" stroke-width=\"3.2\"/>\n",
       "<circle clip-path=\"url(#clip542)\" cx=\"1757.17\" cy=\"381.542\" r=\"14\" fill=\"#009af9\" fill-rule=\"evenodd\" fill-opacity=\"1\" stroke=\"#000000\" stroke-opacity=\"1\" stroke-width=\"3.2\"/>\n",
       "<circle clip-path=\"url(#clip542)\" cx=\"2291.55\" cy=\"87.9763\" r=\"14\" fill=\"#009af9\" fill-rule=\"evenodd\" fill-opacity=\"1\" stroke=\"#000000\" stroke-opacity=\"1\" stroke-width=\"3.2\"/>\n",
       "<circle clip-path=\"url(#clip542)\" cx=\"639.828\" cy=\"1152.15\" r=\"14\" fill=\"#009af9\" fill-rule=\"evenodd\" fill-opacity=\"1\" stroke=\"#000000\" stroke-opacity=\"1\" stroke-width=\"3.2\"/>\n",
       "<path clip-path=\"url(#clip540)\" d=\"\n",
       "M1989.34 216.178 L2280.66 216.178 L2280.66 95.2176 L1989.34 95.2176  Z\n",
       "  \" fill=\"#ffffff\" fill-rule=\"evenodd\" fill-opacity=\"1\"/>\n",
       "<polyline clip-path=\"url(#clip540)\" style=\"stroke:#000000; stroke-width:4; stroke-opacity:1; fill:none\" points=\"\n",
       "  1989.34,216.178 2280.66,216.178 2280.66,95.2176 1989.34,95.2176 1989.34,216.178 \n",
       "  \"/>\n",
       "<circle clip-path=\"url(#clip540)\" cx=\"2085.46\" cy=\"155.698\" r=\"23\" fill=\"#009af9\" fill-rule=\"evenodd\" fill-opacity=\"1\" stroke=\"#000000\" stroke-opacity=\"1\" stroke-width=\"5.12\"/>\n",
       "<circle clip-path=\"url(#clip540)\" cx=\"2085.46\" cy=\"155.698\" r=\"23\" fill=\"#009af9\" fill-rule=\"evenodd\" fill-opacity=\"1\" stroke=\"#000000\" stroke-opacity=\"1\" stroke-width=\"5.12\"/>\n",
       "<circle clip-path=\"url(#clip540)\" cx=\"2085.46\" cy=\"155.698\" r=\"23\" fill=\"#009af9\" fill-rule=\"evenodd\" fill-opacity=\"1\" stroke=\"#000000\" stroke-opacity=\"1\" stroke-width=\"5.12\"/>\n",
       "<circle clip-path=\"url(#clip540)\" cx=\"2085.46\" cy=\"155.698\" r=\"23\" fill=\"#009af9\" fill-rule=\"evenodd\" fill-opacity=\"1\" stroke=\"#000000\" stroke-opacity=\"1\" stroke-width=\"5.12\"/>\n",
       "<circle clip-path=\"url(#clip540)\" cx=\"2085.46\" cy=\"155.698\" r=\"23\" fill=\"#009af9\" fill-rule=\"evenodd\" fill-opacity=\"1\" stroke=\"#000000\" stroke-opacity=\"1\" stroke-width=\"5.12\"/>\n",
       "<circle clip-path=\"url(#clip540)\" cx=\"2085.46\" cy=\"155.698\" r=\"23\" fill=\"#009af9\" fill-rule=\"evenodd\" fill-opacity=\"1\" stroke=\"#000000\" stroke-opacity=\"1\" stroke-width=\"5.12\"/>\n",
       "<circle clip-path=\"url(#clip540)\" cx=\"2085.46\" cy=\"155.698\" r=\"23\" fill=\"#009af9\" fill-rule=\"evenodd\" fill-opacity=\"1\" stroke=\"#000000\" stroke-opacity=\"1\" stroke-width=\"5.12\"/>\n",
       "<circle clip-path=\"url(#clip540)\" cx=\"2085.46\" cy=\"155.698\" r=\"23\" fill=\"#009af9\" fill-rule=\"evenodd\" fill-opacity=\"1\" stroke=\"#000000\" stroke-opacity=\"1\" stroke-width=\"5.12\"/>\n",
       "<circle clip-path=\"url(#clip540)\" cx=\"2085.46\" cy=\"155.698\" r=\"23\" fill=\"#009af9\" fill-rule=\"evenodd\" fill-opacity=\"1\" stroke=\"#000000\" stroke-opacity=\"1\" stroke-width=\"5.12\"/>\n",
       "<circle clip-path=\"url(#clip540)\" cx=\"2085.46\" cy=\"155.698\" r=\"23\" fill=\"#009af9\" fill-rule=\"evenodd\" fill-opacity=\"1\" stroke=\"#000000\" stroke-opacity=\"1\" stroke-width=\"5.12\"/>\n",
       "<circle clip-path=\"url(#clip540)\" cx=\"2085.46\" cy=\"155.698\" r=\"23\" fill=\"#009af9\" fill-rule=\"evenodd\" fill-opacity=\"1\" stroke=\"#000000\" stroke-opacity=\"1\" stroke-width=\"5.12\"/>\n",
       "<circle clip-path=\"url(#clip540)\" cx=\"2085.46\" cy=\"155.698\" r=\"23\" fill=\"#009af9\" fill-rule=\"evenodd\" fill-opacity=\"1\" stroke=\"#000000\" stroke-opacity=\"1\" stroke-width=\"5.12\"/>\n",
       "<circle clip-path=\"url(#clip540)\" cx=\"2085.46\" cy=\"155.698\" r=\"23\" fill=\"#009af9\" fill-rule=\"evenodd\" fill-opacity=\"1\" stroke=\"#000000\" stroke-opacity=\"1\" stroke-width=\"5.12\"/>\n",
       "<circle clip-path=\"url(#clip540)\" cx=\"2085.46\" cy=\"155.698\" r=\"23\" fill=\"#009af9\" fill-rule=\"evenodd\" fill-opacity=\"1\" stroke=\"#000000\" stroke-opacity=\"1\" stroke-width=\"5.12\"/>\n",
       "<circle clip-path=\"url(#clip540)\" cx=\"2085.46\" cy=\"155.698\" r=\"23\" fill=\"#009af9\" fill-rule=\"evenodd\" fill-opacity=\"1\" stroke=\"#000000\" stroke-opacity=\"1\" stroke-width=\"5.12\"/>\n",
       "<circle clip-path=\"url(#clip540)\" cx=\"2085.46\" cy=\"155.698\" r=\"23\" fill=\"#009af9\" fill-rule=\"evenodd\" fill-opacity=\"1\" stroke=\"#000000\" stroke-opacity=\"1\" stroke-width=\"5.12\"/>\n",
       "<circle clip-path=\"url(#clip540)\" cx=\"2085.46\" cy=\"155.698\" r=\"23\" fill=\"#009af9\" fill-rule=\"evenodd\" fill-opacity=\"1\" stroke=\"#000000\" stroke-opacity=\"1\" stroke-width=\"5.12\"/>\n",
       "<circle clip-path=\"url(#clip540)\" cx=\"2085.46\" cy=\"155.698\" r=\"23\" fill=\"#009af9\" fill-rule=\"evenodd\" fill-opacity=\"1\" stroke=\"#000000\" stroke-opacity=\"1\" stroke-width=\"5.12\"/>\n",
       "<circle clip-path=\"url(#clip540)\" cx=\"2085.46\" cy=\"155.698\" r=\"23\" fill=\"#009af9\" fill-rule=\"evenodd\" fill-opacity=\"1\" stroke=\"#000000\" stroke-opacity=\"1\" stroke-width=\"5.12\"/>\n",
       "<path clip-path=\"url(#clip540)\" d=\"M 0 0 M2195.43 175.385 Q2193.62 180.015 2191.91 181.427 Q2190.19 182.839 2187.32 182.839 L2183.92 182.839 L2183.92 179.274 L2186.42 179.274 Q2188.18 179.274 2189.15 178.44 Q2190.12 177.607 2191.31 174.505 L2192.07 172.561 L2181.58 147.052 L2186.1 147.052 L2194.2 167.329 L2202.3 147.052 L2206.81 147.052 L2195.43 175.385 Z\" fill=\"#000000\" fill-rule=\"evenodd\" fill-opacity=\"1\" /><path clip-path=\"url(#clip540)\" d=\"M 0 0 M2212.69 169.042 L2220.33 169.042 L2220.33 142.677 L2212.02 144.343 L2212.02 140.084 L2220.29 138.418 L2224.96 138.418 L2224.96 169.042 L2232.6 169.042 L2232.6 172.978 L2212.69 172.978 L2212.69 169.042 Z\" fill=\"#000000\" fill-rule=\"evenodd\" fill-opacity=\"1\" /></svg>\n"
      ]
     },
     "execution_count": 50,
     "metadata": {},
     "output_type": "execute_result"
    }
   ],
   "source": [
    "scatter(dataset.Promote, dataset.Sales)"
   ]
  },
  {
   "cell_type": "raw",
   "metadata": {},
   "source": [
    "y  = mx + c\n",
    "\n",
    "Sales = m * promote + c\n",
    "\n",
    "Sales = Slope * promote + Intercept"
   ]
  },
  {
   "cell_type": "markdown",
   "metadata": {},
   "source": [
    "# Method 1"
   ]
  },
  {
   "cell_type": "markdown",
   "metadata": {},
   "source": [
    "$$ \\Large y = c + mx $$"
   ]
  },
  {
   "cell_type": "markdown",
   "metadata": {},
   "source": [
    "$$ \\Large m = \\frac{\\Sigma({x - \\bar{x}}) ({y - \\bar{y}}) }{ \\Sigma({x - \\bar{x}})^2} $$"
   ]
  },
  {
   "cell_type": "markdown",
   "metadata": {},
   "source": [
    "$$ \\Large c = \\bar{y} - m \\bar{x} $$"
   ]
  },
  {
   "cell_type": "code",
   "execution_count": 51,
   "metadata": {},
   "outputs": [],
   "source": [
    "using Statistics"
   ]
  },
  {
   "cell_type": "code",
   "execution_count": 52,
   "metadata": {},
   "outputs": [],
   "source": [
    "m = sum((X .- mean(X)) .* (Y .- mean(Y))) / sum((X .- mean(X)) .* (X .- mean(X)))\n",
    "c = mean(Y) - m .* mean(X);"
   ]
  },
  {
   "cell_type": "code",
   "execution_count": 53,
   "metadata": {},
   "outputs": [
    {
     "data": {
      "text/plain": [
       "(23.50640302155077, 5.485865363252515)"
      ]
     },
     "execution_count": 53,
     "metadata": {},
     "output_type": "execute_result"
    }
   ],
   "source": [
    "m , c"
   ]
  },
  {
   "cell_type": "code",
   "execution_count": 54,
   "metadata": {},
   "outputs": [
    {
     "ename": "MethodError",
     "evalue": "MethodError: no method matching *(::Float64, ::typeof(promote))\nClosest candidates are:\n  *(::Any, ::Any, !Matched::Any, !Matched::Any...) at operators.jl:529\n  *(::Float64, !Matched::Float64) at float.jl:405\n  *(::AbstractFloat, !Matched::Bool) at bool.jl:112\n  ...",
     "output_type": "error",
     "traceback": [
      "MethodError: no method matching *(::Float64, ::typeof(promote))\nClosest candidates are:\n  *(::Any, ::Any, !Matched::Any, !Matched::Any...) at operators.jl:529\n  *(::Float64, !Matched::Float64) at float.jl:405\n  *(::AbstractFloat, !Matched::Bool) at bool.jl:112\n  ...",
      "",
      "Stacktrace:",
      " [1] top-level scope at In[54]:1"
     ]
    }
   ],
   "source": [
    "Sales = 23.5 * promote + 5.48"
   ]
  },
  {
   "cell_type": "code",
   "execution_count": 55,
   "metadata": {},
   "outputs": [
    {
     "data": {
      "text/plain": [
       "1180.48"
      ]
     },
     "execution_count": 55,
     "metadata": {},
     "output_type": "execute_result"
    }
   ],
   "source": [
    " 23.5 * 50 + 5.48"
   ]
  },
  {
   "cell_type": "markdown",
   "metadata": {},
   "source": [
    "# Method 2"
   ]
  },
  {
   "cell_type": "code",
   "execution_count": 56,
   "metadata": {},
   "outputs": [
    {
     "data": {
      "text/plain": [
       "2-element Array{String,1}:\n",
       " \"Promote\"\n",
       " \"Sales\""
      ]
     },
     "execution_count": 56,
     "metadata": {},
     "output_type": "execute_result"
    }
   ],
   "source": [
    "names(dataset)"
   ]
  },
  {
   "cell_type": "code",
   "execution_count": 57,
   "metadata": {},
   "outputs": [],
   "source": [
    "using GLM"
   ]
  },
  {
   "cell_type": "code",
   "execution_count": 58,
   "metadata": {},
   "outputs": [
    {
     "data": {
      "text/plain": [
       "StatsModels.TableRegressionModel{LinearModel{GLM.LmResp{Array{Float64,1}},GLM.DensePredChol{Float64,LinearAlgebra.Cholesky{Float64,Array{Float64,2}}}},Array{Float64,2}}\n",
       "\n",
       "Sales ~ 1 + Promote\n",
       "\n",
       "Coefficients:\n",
       "────────────────────────────────────────────────────────────────────────\n",
       "                Coef.  Std. Error      t  Pr(>|t|)  Lower 95%  Upper 95%\n",
       "────────────────────────────────────────────────────────────────────────\n",
       "(Intercept)   5.48587   34.718      0.16    0.8763   -67.7627    78.7344\n",
       "Promote      23.5064     0.606353  38.77    <1e-17    22.2271    24.7857\n",
       "────────────────────────────────────────────────────────────────────────"
      ]
     },
     "execution_count": 58,
     "metadata": {},
     "output_type": "execute_result"
    }
   ],
   "source": [
    "ols = lm(@formula(Sales ~ Promote) , dataset)"
   ]
  },
  {
   "cell_type": "code",
   "execution_count": 59,
   "metadata": {},
   "outputs": [],
   "source": [
    "using DataFrames"
   ]
  },
  {
   "cell_type": "code",
   "execution_count": 60,
   "metadata": {},
   "outputs": [
    {
     "data": {
      "text/plain": [
       "1-element Array{Union{Missing, Float64},1}:\n",
       " 1180.806016440791"
      ]
     },
     "execution_count": 60,
     "metadata": {},
     "output_type": "execute_result"
    }
   ],
   "source": [
    "predict(ols, DataFrame(Promote= [50]))"
   ]
  },
  {
   "cell_type": "markdown",
   "metadata": {},
   "source": [
    "# Multiple Linear Regression"
   ]
  },
  {
   "cell_type": "code",
   "execution_count": 61,
   "metadata": {},
   "outputs": [
    {
     "data": {
      "text/html": [
       "<table class=\"data-frame\"><thead><tr><th></th><th>Salary</th><th>Years_Previous_Experience</th><th>Years_Employed</th><th>Years_Education</th><th>Gender</th><th>Department</th></tr><tr><th></th><th>Int64</th><th>Int64</th><th>Int64</th><th>Int64</th><th>String</th><th>String</th></tr></thead><tbody><p>46 rows × 7 columns (omitted printing of 1 columns)</p><tr><th>1</th><td>32782</td><td>1</td><td>0</td><td>7</td><td>Male</td><td>A</td></tr><tr><th>2</th><td>32920</td><td>3</td><td>15</td><td>9</td><td>Female</td><td>A</td></tr><tr><th>3</th><td>29548</td><td>6</td><td>5</td><td>1</td><td>Male</td><td>A</td></tr><tr><th>4</th><td>39828</td><td>6</td><td>18</td><td>5</td><td>Female</td><td>A</td></tr><tr><th>5</th><td>31528</td><td>11</td><td>3</td><td>3</td><td>Male</td><td>A</td></tr><tr><th>6</th><td>38985</td><td>7</td><td>18</td><td>9</td><td>Male</td><td>A</td></tr><tr><th>7</th><td>41889</td><td>16</td><td>22</td><td>7</td><td>Male</td><td>A</td></tr><tr><th>8</th><td>38791</td><td>4</td><td>21</td><td>5</td><td>Male</td><td>A</td></tr><tr><th>9</th><td>28985</td><td>1</td><td>0</td><td>4</td><td>Female</td><td>A</td></tr><tr><th>10</th><td>24749</td><td>2</td><td>6</td><td>0</td><td>Female</td><td>A</td></tr><tr><th>11</th><td>35467</td><td>6</td><td>3</td><td>6</td><td>Female</td><td>B</td></tr><tr><th>12</th><td>35468</td><td>5</td><td>9</td><td>4</td><td>Female</td><td>B</td></tr><tr><th>13</th><td>29876</td><td>0</td><td>2</td><td>3</td><td>Female</td><td>B</td></tr><tr><th>14</th><td>43674</td><td>9</td><td>6</td><td>4</td><td>Male</td><td>B</td></tr><tr><th>15</th><td>36431</td><td>4</td><td>9</td><td>4</td><td>Female</td><td>B</td></tr><tr><th>16</th><td>26578</td><td>6</td><td>0</td><td>2</td><td>Female</td><td>B</td></tr><tr><th>17</th><td>36571</td><td>1</td><td>6</td><td>4</td><td>Male</td><td>B</td></tr><tr><th>18</th><td>56326</td><td>3</td><td>12</td><td>8</td><td>Male</td><td>B</td></tr><tr><th>19</th><td>23654</td><td>0</td><td>0</td><td>0</td><td>Female</td><td>C</td></tr><tr><th>20</th><td>36578</td><td>4</td><td>4</td><td>8</td><td>Male</td><td>C</td></tr><tr><th>21</th><td>37548</td><td>9</td><td>19</td><td>4</td><td>Male</td><td>C</td></tr><tr><th>22</th><td>53234</td><td>0</td><td>25</td><td>6</td><td>Male</td><td>C</td></tr><tr><th>23</th><td>54679</td><td>3</td><td>20</td><td>6</td><td>Female</td><td>C</td></tr><tr><th>24</th><td>47536</td><td>5</td><td>15</td><td>6</td><td>Male</td><td>C</td></tr><tr><th>25</th><td>31425</td><td>6</td><td>7</td><td>5</td><td>Female</td><td>C</td></tr><tr><th>26</th><td>65487</td><td>0</td><td>27</td><td>12</td><td>Female</td><td>D</td></tr><tr><th>27</th><td>46184</td><td>3</td><td>20</td><td>4</td><td>Male</td><td>D</td></tr><tr><th>28</th><td>54899</td><td>5</td><td>12</td><td>8</td><td>Female</td><td>D</td></tr><tr><th>29</th><td>34869</td><td>5</td><td>7</td><td>4</td><td>Female</td><td>D</td></tr><tr><th>30</th><td>35487</td><td>2</td><td>8</td><td>2</td><td>Female</td><td>D</td></tr><tr><th>&vellip;</th><td>&vellip;</td><td>&vellip;</td><td>&vellip;</td><td>&vellip;</td><td>&vellip;</td><td>&vellip;</td></tr></tbody></table>"
      ],
      "text/latex": [
       "\\begin{tabular}{r|ccccccc}\n",
       "\t& Salary & Years\\_Previous\\_Experience & Years\\_Employed & Years\\_Education & Gender & Department & \\\\\n",
       "\t\\hline\n",
       "\t& Int64 & Int64 & Int64 & Int64 & String & String & \\\\\n",
       "\t\\hline\n",
       "\t1 & 32782 & 1 & 0 & 7 & Male & A & $\\dots$ \\\\\n",
       "\t2 & 32920 & 3 & 15 & 9 & Female & A & $\\dots$ \\\\\n",
       "\t3 & 29548 & 6 & 5 & 1 & Male & A & $\\dots$ \\\\\n",
       "\t4 & 39828 & 6 & 18 & 5 & Female & A & $\\dots$ \\\\\n",
       "\t5 & 31528 & 11 & 3 & 3 & Male & A & $\\dots$ \\\\\n",
       "\t6 & 38985 & 7 & 18 & 9 & Male & A & $\\dots$ \\\\\n",
       "\t7 & 41889 & 16 & 22 & 7 & Male & A & $\\dots$ \\\\\n",
       "\t8 & 38791 & 4 & 21 & 5 & Male & A & $\\dots$ \\\\\n",
       "\t9 & 28985 & 1 & 0 & 4 & Female & A & $\\dots$ \\\\\n",
       "\t10 & 24749 & 2 & 6 & 0 & Female & A & $\\dots$ \\\\\n",
       "\t11 & 35467 & 6 & 3 & 6 & Female & B & $\\dots$ \\\\\n",
       "\t12 & 35468 & 5 & 9 & 4 & Female & B & $\\dots$ \\\\\n",
       "\t13 & 29876 & 0 & 2 & 3 & Female & B & $\\dots$ \\\\\n",
       "\t14 & 43674 & 9 & 6 & 4 & Male & B & $\\dots$ \\\\\n",
       "\t15 & 36431 & 4 & 9 & 4 & Female & B & $\\dots$ \\\\\n",
       "\t16 & 26578 & 6 & 0 & 2 & Female & B & $\\dots$ \\\\\n",
       "\t17 & 36571 & 1 & 6 & 4 & Male & B & $\\dots$ \\\\\n",
       "\t18 & 56326 & 3 & 12 & 8 & Male & B & $\\dots$ \\\\\n",
       "\t19 & 23654 & 0 & 0 & 0 & Female & C & $\\dots$ \\\\\n",
       "\t20 & 36578 & 4 & 4 & 8 & Male & C & $\\dots$ \\\\\n",
       "\t21 & 37548 & 9 & 19 & 4 & Male & C & $\\dots$ \\\\\n",
       "\t22 & 53234 & 0 & 25 & 6 & Male & C & $\\dots$ \\\\\n",
       "\t23 & 54679 & 3 & 20 & 6 & Female & C & $\\dots$ \\\\\n",
       "\t24 & 47536 & 5 & 15 & 6 & Male & C & $\\dots$ \\\\\n",
       "\t25 & 31425 & 6 & 7 & 5 & Female & C & $\\dots$ \\\\\n",
       "\t26 & 65487 & 0 & 27 & 12 & Female & D & $\\dots$ \\\\\n",
       "\t27 & 46184 & 3 & 20 & 4 & Male & D & $\\dots$ \\\\\n",
       "\t28 & 54899 & 5 & 12 & 8 & Female & D & $\\dots$ \\\\\n",
       "\t29 & 34869 & 5 & 7 & 4 & Female & D & $\\dots$ \\\\\n",
       "\t30 & 35487 & 2 & 8 & 2 & Female & D & $\\dots$ \\\\\n",
       "\t$\\dots$ & $\\dots$ & $\\dots$ & $\\dots$ & $\\dots$ & $\\dots$ & $\\dots$ &  \\\\\n",
       "\\end{tabular}\n"
      ],
      "text/plain": [
       "46×7 DataFrame. Omitted printing of 3 columns\n",
       "│ Row │ Salary │ Years_Previous_Experience │ Years_Employed │ Years_Education │\n",
       "│     │ \u001b[90mInt64\u001b[39m  │ \u001b[90mInt64\u001b[39m                     │ \u001b[90mInt64\u001b[39m          │ \u001b[90mInt64\u001b[39m           │\n",
       "├─────┼────────┼───────────────────────────┼────────────────┼─────────────────┤\n",
       "│ 1   │ 32782  │ 1                         │ 0              │ 7               │\n",
       "│ 2   │ 32920  │ 3                         │ 15             │ 9               │\n",
       "│ 3   │ 29548  │ 6                         │ 5              │ 1               │\n",
       "│ 4   │ 39828  │ 6                         │ 18             │ 5               │\n",
       "│ 5   │ 31528  │ 11                        │ 3              │ 3               │\n",
       "│ 6   │ 38985  │ 7                         │ 18             │ 9               │\n",
       "│ 7   │ 41889  │ 16                        │ 22             │ 7               │\n",
       "│ 8   │ 38791  │ 4                         │ 21             │ 5               │\n",
       "│ 9   │ 28985  │ 1                         │ 0              │ 4               │\n",
       "│ 10  │ 24749  │ 2                         │ 6              │ 0               │\n",
       "⋮\n",
       "│ 36  │ 36487  │ 5                         │ 6              │ 2               │\n",
       "│ 37  │ 34632  │ 4                         │ 5              │ 4               │\n",
       "│ 38  │ 46211  │ 5                         │ 14             │ 6               │\n",
       "│ 39  │ 51698  │ 6                         │ 18             │ 6               │\n",
       "│ 40  │ 69246  │ 3                         │ 22             │ 10              │\n",
       "│ 41  │ 48695  │ 19                        │ 6              │ 8               │\n",
       "│ 42  │ 34987  │ 6                         │ 9              │ 2               │\n",
       "│ 43  │ 35631  │ 4                         │ 6              │ 4               │\n",
       "│ 44  │ 39743  │ 6                         │ 9              │ 5               │\n",
       "│ 45  │ 41255  │ 4                         │ 9              │ 6               │\n",
       "│ 46  │ 26452  │ 3                         │ 1              │ 2               │"
      ]
     },
     "execution_count": 61,
     "metadata": {},
     "output_type": "execute_result"
    }
   ],
   "source": [
    "s2 = CSV.read(\"salary.csv\")"
   ]
  },
  {
   "cell_type": "code",
   "execution_count": 62,
   "metadata": {},
   "outputs": [
    {
     "data": {
      "text/plain": [
       "7-element Array{String,1}:\n",
       " \"Salary\"\n",
       " \"Years_Previous_Experience\"\n",
       " \"Years_Employed\"\n",
       " \"Years_Education\"\n",
       " \"Gender\"\n",
       " \"Department\"\n",
       " \"Number_Supervised\""
      ]
     },
     "execution_count": 62,
     "metadata": {},
     "output_type": "execute_result"
    }
   ],
   "source": [
    "names(s2)"
   ]
  },
  {
   "cell_type": "markdown",
   "metadata": {},
   "source": [
    "y = m0x0 + m1x1 + m2x2 + c"
   ]
  },
  {
   "cell_type": "code",
   "execution_count": 63,
   "metadata": {},
   "outputs": [
    {
     "data": {
      "text/plain": [
       "StatsModels.TableRegressionModel{LinearModel{GLM.LmResp{Array{Float64,1}},GLM.DensePredChol{Float64,LinearAlgebra.Cholesky{Float64,Array{Float64,2}}}},Array{Float64,2}}\n",
       "\n",
       "Salary ~ 1 + Years_Previous_Experience + Years_Employed + Years_Education + Gender\n",
       "\n",
       "Coefficients:\n",
       "───────────────────────────────────────────────────────────────────────────────────────\n",
       "                               Coef.  Std. Error      t  Pr(>|t|)  Lower 95%  Upper 95%\n",
       "───────────────────────────────────────────────────────────────────────────────────────\n",
       "(Intercept)                23167.1      2072.0    11.18    <1e-13   18982.6   27351.6\n",
       "Years_Previous_Experience   -114.747     239.075  -0.48    0.6338    -597.57    368.075\n",
       "Years_Employed               656.497     144.942   4.53    <1e-4      363.78    949.214\n",
       "Years_Education             1903.99      386.932   4.92    <1e-4     1122.56   2685.41\n",
       "Gender: Male                1468.1      1804.27    0.81    0.4205   -2175.69   5111.9\n",
       "───────────────────────────────────────────────────────────────────────────────────────"
      ]
     },
     "execution_count": 63,
     "metadata": {},
     "output_type": "execute_result"
    }
   ],
   "source": [
    "ols2 = lm(@formula(Salary ~ Years_Previous_Experience + Years_Employed + Years_Education + Gender ) , s2)"
   ]
  },
  {
   "cell_type": "code",
   "execution_count": 64,
   "metadata": {},
   "outputs": [
    {
     "data": {
      "text/plain": [
       "1-element Array{Union{Missing, Float64},1}:\n",
       " 51504.78590840764"
      ]
     },
     "execution_count": 64,
     "metadata": {},
     "output_type": "execute_result"
    }
   ],
   "source": [
    "predict(ols2, DataFrame(Years_Previous_Experience = [5], Years_Employed = [7], Years_Education  = [12], Gender =[\"Male\"]))"
   ]
  },
  {
   "cell_type": "code",
   "execution_count": 65,
   "metadata": {},
   "outputs": [
    {
     "data": {
      "text/plain": [
       "1-element Array{Union{Missing, Float64},1}:\n",
       " 50036.68417086605"
      ]
     },
     "execution_count": 65,
     "metadata": {},
     "output_type": "execute_result"
    }
   ],
   "source": [
    "predict(ols2, DataFrame(Years_Previous_Experience = [5], Years_Employed = [7], Years_Education  = [12], Gender =[\"Female\"]))"
   ]
  },
  {
   "cell_type": "code",
   "execution_count": 66,
   "metadata": {},
   "outputs": [
    {
     "data": {
      "text/plain": [
       "2-element Array{Union{Missing, Float64},1}:\n",
       " 51504.78590840764\n",
       " 57176.38183377373"
      ]
     },
     "execution_count": 66,
     "metadata": {},
     "output_type": "execute_result"
    }
   ],
   "source": [
    "predict(ols2, DataFrame(Years_Previous_Experience = [5 , 4], Years_Employed = [7 , 9], Years_Education  = [12, 15], Gender =[\"Male\", \"Female\"]))"
   ]
  },
  {
   "cell_type": "code",
   "execution_count": null,
   "metadata": {},
   "outputs": [],
   "source": []
  }
 ],
 "metadata": {
  "kernelspec": {
   "display_name": "Julia 1.4.2",
   "language": "julia",
   "name": "julia-1.4"
  },
  "language_info": {
   "file_extension": ".jl",
   "mimetype": "application/julia",
   "name": "julia",
   "version": "1.4.2"
  }
 },
 "nbformat": 4,
 "nbformat_minor": 4
}
